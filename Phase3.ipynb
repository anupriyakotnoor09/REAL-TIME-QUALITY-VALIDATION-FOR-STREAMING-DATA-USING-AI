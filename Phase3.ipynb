{
 "cells": [
  {
   "cell_type": "code",
   "execution_count": null,
   "id": "392994b6-0723-4dbe-97b4-4b19df1d72c3",
   "metadata": {},
   "outputs": [],
   "source": [
    "from sklearn.impute import KNNImputer\n",
    "import pandas as pd\n",
    "\n",
    "imputer = KNNImputer(n_neighbors=5)\n",
    "data_cleaned = pd.DataFrame(imputer.fit_transform(data), columns=data.columns)\n",
    "print(\"Missing values after imputation:\", data_cleaned.isnull().sum())"
   ]
  },
  {
   "cell_type": "code",
   "execution_count": null,
   "id": "0244cc94-c8e6-48ab-a810-e63197996b36",
   "metadata": {},
   "outputs": [],
   "source": [
    "from sklearn.ensemble import IsolationForest\n",
    "\n",
    "iso = IsolationForest(contamination=0.05, random_state=42)\n",
    "data_cleaned['Anomaly'] = iso.fit_predict(data_cleaned.drop(columns=['target']))\n",
    "data_cleaned = data_cleaned[data_cleaned['Anomaly'] == 1].drop(columns=['Anomaly'])"
   ]
  },
  {
   "cell_type": "code",
   "execution_count": null,
   "id": "8e5c178f-5fbb-45c2-a517-b164b2f56362",
   "metadata": {},
   "outputs": [],
   "source": [
    "from imblearn.over_sampling import SMOTE\n",
    "smote = SMOTE(random_state=42)\n",
    "X_resampled, y_resampled = smote.fit_resample(data_cleaned.drop(columns=['target']), data_cleaned['target'])"
   ]
  },
  {
   "cell_type": "code",
   "execution_count": null,
   "id": "4e4785aa-119e-4ce0-b041-ef7abdd29e5b",
   "metadata": {},
   "outputs": [],
   "source": [
    "from sklearn.tree import DecisionTreeClassifier\n",
    "from sklearn.model_selection import train_test_split\n",
    "from sklearn.metrics import accuracy_score\n",
    "\n",
    "X_train, X_test, y_train, y_test = train_test_split(X_resampled, y_resampled, test_size=0.2, random_state=42)\n",
    "model = DecisionTreeClassifier(max_depth=3)\n",
    "model.fit(X_train, y_train)\n",
    "predictions = model.predict(X_test)\n",
    "print(\"Accuracy:\", accuracy_score(y_test, predictions))"
   ]
  },
  {
   "cell_type": "code",
   "execution_count": null,
   "id": "d3ca8fb6-d7dc-490b-b7b0-2671880ec818",
   "metadata": {},
   "outputs": [],
   "source": [
    "from sklearn.ensemble import RandomForestClassifier\n",
    "clf = RandomForestClassifier(n_estimators=50, max_depth=5, random_state=42)\n",
    "clf.fit(X_train, y_train)\n",
    "y_pred = clf.predict(X_test)"
   ]
  },
  {
   "cell_type": "code",
   "execution_count": null,
   "id": "3c846846-de5f-4a8d-abb1-ea71e9ffc8f1",
   "metadata": {},
   "outputs": [],
   "source": [
    "from flask import Flask, jsonify\n",
    "from flask_socketio import SocketIO\n",
    "import random, time\n",
    "\n",
    "app = Flask(__name__)\n",
    "socketio = SocketIO(app, cors_allowed_origins=\"*\")\n",
    "\n",
    "def generate_data():\n",
    "    while True:\n",
    "        data = {\n",
    "            \"heart_rate\": random.uniform(60, 100),\n",
    "            \"temperature\": random.uniform(36, 40),\n",
    "            \"oxygen_level\": random.uniform(95, 100)\n",
    "        }\n",
    "        socketio.emit(\"health_data\", data)\n",
    "        time.sleep(2)\n",
    "\n",
    "socketio.start_background_task(generate_data)\n",
    "socketio.run(app, port=5000, debug=True)"
   ]
  },
  {
   "cell_type": "code",
   "execution_count": null,
   "id": "f9fbb9a7-1672-47f1-8894-8f9bbdfd9936",
   "metadata": {},
   "outputs": [],
   "source": [
    "<ResponsiveContainer width=\"100%\" height={300}>\n",
    "  <LineChart data={healthData}>\n",
    "    <XAxis dataKey=\"time\" />\n",
    "    <YAxis />\n",
    "    <Tooltip />\n",
    "    <Line type=\"monotone\" dataKey=\"heart_rate\" stroke=\"red\" />\n",
    "    <Line type=\"monotone\" dataKey=\"temperature\" stroke=\"orange\" />\n",
    "    <Line type=\"monotone\" dataKey=\"oxygen_level\" stroke=\"blue\" />\n",
    "  </LineChart>\n",
    "</ResponsiveContainer>"
   ]
  }
 ],
 "metadata": {
  "kernelspec": {
   "display_name": "Python 3 (ipykernel)",
   "language": "python",
   "name": "python3"
  },
  "language_info": {
   "codemirror_mode": {
    "name": "ipython",
    "version": 3
   },
   "file_extension": ".py",
   "mimetype": "text/x-python",
   "name": "python",
   "nbconvert_exporter": "python",
   "pygments_lexer": "ipython3",
   "version": "3.12.4"
  }
 },
 "nbformat": 4,
 "nbformat_minor": 5
}
